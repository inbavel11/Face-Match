import cv2
import numpy as np
import tkinter as tk
from tkinter import filedialog
from PIL import Image, ImageTk

# Load pre-trained Haar Cascade for face detection
face_cascade = cv2.CascadeClassifier(cv2.data.haarcascades + 'haarcascade_frontalface_default.xml')

# Initialize Tkinter window
root = tk.Tk()
root.title("Real-time Face Detection and Matching")

# Initialize video capture for real-time face detection
video_capture = cv2.VideoCapture(0)

uploaded_image = None
uploaded_face = None

# Function to upload and process an image
def upload_image():
    global uploaded_image, uploaded_face
    file_path = filedialog.askopenfilename()

    # Load image and convert to grayscale
    uploaded_image = cv2.imread(file_path)
    gray_image = cv2.cvtColor(uploaded_image, cv2.COLOR_BGR2GRAY)

    # Detect face in the uploaded image
    faces = face_cascade.detectMultiScale(gray_image, scaleFactor=1.1, minNeighbors=5, minSize=(100, 100))

    if len(faces) > 0:
        x, y, w, h = faces[0]
        uploaded_face = gray_image[y:y+h, x:x+w]
        cv2.rectangle(uploaded_image, (x, y), (x+w, y+h), (255, 0, 0), 2)
        display_image(uploaded_image, 'Uploaded Image')

# Function to display an image in the tkinter window
def display_image(image, title):
    image_rgb = cv2.cvtColor(image, cv2.COLOR_BGR2RGB)
    pil_image = Image.fromarray(image_rgb)
    tk_image = ImageTk.PhotoImage(image=pil_image)
    img_label = tk.Label(root, image=tk_image, text=title)
    img_label.image = tk_image
    img_label.pack()

# Function to calculate the similarity between two faces
def calculate_similarity(face1, face2):
    if face1.shape == face2.shape:
        diff = np.linalg.norm(face1 - face2)
        similarity = 100 - (diff / face1.size) * 100
        return similarity
    return 0

# Function to detect face in real-time and compare with uploaded image
def detect_and_match():
    ret, frame = video_capture.read()
    if ret:
        gray_frame = cv2.cvtColor(frame, cv2.COLOR_BGR2GRAY)
        faces = face_cascade.detectMultiScale(gray_frame, scaleFactor=1.1, minNeighbors=5, minSize=(100, 100))

        if len(faces) > 0:
            for (x, y, w, h) in faces:
                real_time_face = gray_frame[y:y+h, x:x+w]
                cv2.rectangle(frame, (x, y), (x+w, y+h), (0, 255, 0), 2)

                if uploaded_face is not None:
                    similarity = calculate_similarity(uploaded_face, real_time_face)
                    cv2.putText(frame, f"Match: {similarity:.2f}%", (x, y - 10),
                                cv2.FONT_HERSHEY_SIMPLEX, 0.7, (0, 255, 0), 2)

        # Convert frame to RGB for Tkinter display
        frame_rgb = cv2.cvtColor(frame, cv2.COLOR_BGR2RGB)
        pil_frame = Image.fromarray(frame_rgb)
        tk_frame = ImageTk.PhotoImage(image=pil_frame)

        video_label.config(image=tk_frame)
        video_label.image = tk_frame

    root.after(10, detect_and_match)

# Set up GUI elements
upload_button = tk.Button(root, text="Upload Image", command=upload_image)
upload_button.pack()

video_label = tk.Label(root)
video_label.pack()

# Start real-time detection
root.after(10, detect_and_match)
root.mainloop()

# Release the video capture when the application is closed
video_capture.release()
